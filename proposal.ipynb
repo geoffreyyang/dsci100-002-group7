{
 "cells": [
  {
   "cell_type": "markdown",
   "metadata": {},
   "source": [
    "# Project Proposal - Will it Rain Tomorrow?"
   ]
  },
  {
   "cell_type": "markdown",
   "metadata": {},
   "source": [
    "## Introduction"
   ]
  },
  {
   "cell_type": "markdown",
   "metadata": {},
   "source": [
    "To predict the weather, government agencies divide Earth's atmosphere into thousands of 3D cells: for each cell, they feed millions of current weather observations into powerful supercomputers, generating forecasts which must be refreshed several times a day<sup>1</sup>. But what if the goal was not to predict \"the weather\", but simply to predict *whether or not it will rain tomorrow*? Can this less ambitious question be answered accurately using simpler variables, fewer data points, and less computational horsepower?  \n",
    "\n",
    "Our goal is to answer the question, ***which broad weather variable, when measured today, is most predictive of rain tomorrow?*** By \"broad\", we mean ideas of \"temperature\" and \"windiness\" rather than \"temperature at 3 pm\" and \"maximum wind gust speed\". These broad variables are things the average person would have an intuitive sense of or could search up quickly: the hope is to find a simple variable that can serve as an effective heuristic for predicting rain in our daily lives.\n",
    "\n",
    "We will use the **\"Rain in Australia\"** dataset, publicly avaialable on Kaggle<sup>2</sup>. It contains more than 140,000 weather observations gathered from locations across Australia over a span of 10 years. Each row contains temperature, rainfall, wind, humidity, pressure, and cloud cover measurements for the day. The target variable is `RainTomorrow`, a Boolean: `Yes` if it rained at least 1 mm the day after, and `No` otherwise."
   ]
  },
  {
   "cell_type": "markdown",
   "metadata": {},
   "source": [
    "## Preliminary EDA"
   ]
  },
  {
   "cell_type": "markdown",
   "metadata": {},
   "source": [
    "### Loading libraries"
   ]
  },
  {
   "cell_type": "code",
   "execution_count": 1,
   "metadata": {},
   "outputs": [
    {
     "name": "stderr",
     "output_type": "stream",
     "text": [
      "Warning message:\n",
      "“package ‘ggplot2’ was built under R version 4.0.1”\n",
      "Warning message:\n",
      "“package ‘tibble’ was built under R version 4.0.2”\n",
      "Warning message:\n",
      "“package ‘tidyr’ was built under R version 4.0.2”\n",
      "Warning message:\n",
      "“package ‘dplyr’ was built under R version 4.0.2”\n",
      "Warning message:\n",
      "“package ‘tidymodels’ was built under R version 4.0.2”\n",
      "Warning message:\n",
      "“package ‘broom’ was built under R version 4.0.2”\n",
      "Warning message:\n",
      "“package ‘dials’ was built under R version 4.0.2”\n",
      "Warning message:\n",
      "“package ‘infer’ was built under R version 4.0.3”\n",
      "Warning message:\n",
      "“package ‘modeldata’ was built under R version 4.0.1”\n",
      "Warning message:\n",
      "“package ‘parsnip’ was built under R version 4.0.2”\n",
      "Warning message:\n",
      "“package ‘recipes’ was built under R version 4.0.1”\n",
      "Warning message:\n",
      "“package ‘tune’ was built under R version 4.0.2”\n",
      "Warning message:\n",
      "“package ‘workflows’ was built under R version 4.0.2”\n",
      "Warning message:\n",
      "“package ‘yardstick’ was built under R version 4.0.2”\n"
     ]
    }
   ],
   "source": [
    "suppressMessages({\n",
    "    library(tidyverse)\n",
    "    library(tidymodels)\n",
    "    library(repr)\n",
    "    library(forcats)\n",
    "})\n",
    "options(repr.matrix.max.rows = 6)"
   ]
  },
  {
   "cell_type": "markdown",
   "metadata": {},
   "source": [
    "### Reading and cleaning data"
   ]
  },
  {
   "cell_type": "markdown",
   "metadata": {},
   "source": [
    "The dataset was downloaded from Kaggle and then uploaded to GitHub. We load in the data from the raw URL and preview the columns using `glimpse`:"
   ]
  },
  {
   "cell_type": "code",
   "execution_count": 2,
   "metadata": {},
   "outputs": [
    {
     "name": "stderr",
     "output_type": "stream",
     "text": [
      "Parsed with column specification:\n",
      "cols(\n",
      "  .default = col_double(),\n",
      "  Date = \u001b[34mcol_date(format = \"\")\u001b[39m,\n",
      "  Location = \u001b[31mcol_character()\u001b[39m,\n",
      "  Evaporation = \u001b[33mcol_logical()\u001b[39m,\n",
      "  Sunshine = \u001b[33mcol_logical()\u001b[39m,\n",
      "  WindGustDir = \u001b[31mcol_character()\u001b[39m,\n",
      "  WindDir9am = \u001b[31mcol_character()\u001b[39m,\n",
      "  WindDir3pm = \u001b[31mcol_character()\u001b[39m,\n",
      "  RainToday = \u001b[31mcol_character()\u001b[39m,\n",
      "  RainTomorrow = \u001b[31mcol_character()\u001b[39m\n",
      ")\n",
      "\n",
      "See spec(...) for full column specifications.\n",
      "\n",
      "Warning message:\n",
      "“153782 parsing failures.\n",
      " row         col           expected actual                                                                              file\n",
      "6050 Evaporation 1/0/T/F/TRUE/FALSE   12   'https://github.com/geoffreyyang/dsci100-002-group7/raw/main/data/weatherAUS.csv'\n",
      "6050 Sunshine    1/0/T/F/TRUE/FALSE   12.3 'https://github.com/geoffreyyang/dsci100-002-group7/raw/main/data/weatherAUS.csv'\n",
      "6051 Evaporation 1/0/T/F/TRUE/FALSE   14.8 'https://github.com/geoffreyyang/dsci100-002-group7/raw/main/data/weatherAUS.csv'\n",
      "6051 Sunshine    1/0/T/F/TRUE/FALSE   13   'https://github.com/geoffreyyang/dsci100-002-group7/raw/main/data/weatherAUS.csv'\n",
      "6052 Evaporation 1/0/T/F/TRUE/FALSE   12.6 'https://github.com/geoffreyyang/dsci100-002-group7/raw/main/data/weatherAUS.csv'\n",
      ".... ........... .................. ...... .................................................................................\n",
      "See problems(...) for more details.\n",
      "”\n"
     ]
    },
    {
     "name": "stdout",
     "output_type": "stream",
     "text": [
      "Rows: 145,460\n",
      "Columns: 23\n",
      "$ Date          \u001b[3m\u001b[90m<date>\u001b[39m\u001b[23m 2008-12-01, 2008-12-02, 2008-12-03, 2008-12-04, 2008-1…\n",
      "$ Location      \u001b[3m\u001b[90m<chr>\u001b[39m\u001b[23m \"Albury\", \"Albury\", \"Albury\", \"Albury\", \"Albury\", \"Albu…\n",
      "$ MinTemp       \u001b[3m\u001b[90m<dbl>\u001b[39m\u001b[23m 13.4, 7.4, 12.9, 9.2, 17.5, 14.6, 14.3, 7.7, 9.7, 13.1,…\n",
      "$ MaxTemp       \u001b[3m\u001b[90m<dbl>\u001b[39m\u001b[23m 22.9, 25.1, 25.7, 28.0, 32.3, 29.7, 25.0, 26.7, 31.9, 3…\n",
      "$ Rainfall      \u001b[3m\u001b[90m<dbl>\u001b[39m\u001b[23m 0.6, 0.0, 0.0, 0.0, 1.0, 0.2, 0.0, 0.0, 0.0, 1.4, 0.0, …\n",
      "$ Evaporation   \u001b[3m\u001b[90m<lgl>\u001b[39m\u001b[23m NA, NA, NA, NA, NA, NA, NA, NA, NA, NA, NA, NA, NA, NA,…\n",
      "$ Sunshine      \u001b[3m\u001b[90m<lgl>\u001b[39m\u001b[23m NA, NA, NA, NA, NA, NA, NA, NA, NA, NA, NA, NA, NA, NA,…\n",
      "$ WindGustDir   \u001b[3m\u001b[90m<chr>\u001b[39m\u001b[23m \"W\", \"WNW\", \"WSW\", \"NE\", \"W\", \"WNW\", \"W\", \"W\", \"NNW\", \"…\n",
      "$ WindGustSpeed \u001b[3m\u001b[90m<dbl>\u001b[39m\u001b[23m 44, 44, 46, 24, 41, 56, 50, 35, 80, 28, 30, 31, 61, 44,…\n",
      "$ WindDir9am    \u001b[3m\u001b[90m<chr>\u001b[39m\u001b[23m \"W\", \"NNW\", \"W\", \"SE\", \"ENE\", \"W\", \"SW\", \"SSE\", \"SE\", \"…\n",
      "$ WindDir3pm    \u001b[3m\u001b[90m<chr>\u001b[39m\u001b[23m \"WNW\", \"WSW\", \"WSW\", \"E\", \"NW\", \"W\", \"W\", \"W\", \"NW\", \"S…\n",
      "$ WindSpeed9am  \u001b[3m\u001b[90m<dbl>\u001b[39m\u001b[23m 20, 4, 19, 11, 7, 19, 20, 6, 7, 15, 17, 15, 28, 24, 4, …\n",
      "$ WindSpeed3pm  \u001b[3m\u001b[90m<dbl>\u001b[39m\u001b[23m 24, 22, 26, 9, 20, 24, 24, 17, 28, 11, 6, 13, 28, 20, 3…\n",
      "$ Humidity9am   \u001b[3m\u001b[90m<dbl>\u001b[39m\u001b[23m 71, 44, 38, 45, 82, 55, 49, 48, 42, 58, 48, 89, 76, 65,…\n",
      "$ Humidity3pm   \u001b[3m\u001b[90m<dbl>\u001b[39m\u001b[23m 22, 25, 30, 16, 33, 23, 19, 19, 9, 27, 22, 91, 93, 43, …\n",
      "$ Pressure9am   \u001b[3m\u001b[90m<dbl>\u001b[39m\u001b[23m 1007.7, 1010.6, 1007.6, 1017.6, 1010.8, 1009.2, 1009.6,…\n",
      "$ Pressure3pm   \u001b[3m\u001b[90m<dbl>\u001b[39m\u001b[23m 1007.1, 1007.8, 1008.7, 1012.8, 1006.0, 1005.4, 1008.2,…\n",
      "$ Cloud9am      \u001b[3m\u001b[90m<dbl>\u001b[39m\u001b[23m 8, NA, NA, NA, 7, NA, 1, NA, NA, NA, NA, 8, 8, NA, NA, …\n",
      "$ Cloud3pm      \u001b[3m\u001b[90m<dbl>\u001b[39m\u001b[23m NA, NA, 2, NA, 8, NA, NA, NA, NA, NA, NA, 8, 8, 7, NA, …\n",
      "$ Temp9am       \u001b[3m\u001b[90m<dbl>\u001b[39m\u001b[23m 16.9, 17.2, 21.0, 18.1, 17.8, 20.6, 18.1, 16.3, 18.3, 2…\n",
      "$ Temp3pm       \u001b[3m\u001b[90m<dbl>\u001b[39m\u001b[23m 21.8, 24.3, 23.2, 26.5, 29.7, 28.9, 24.6, 25.5, 30.2, 2…\n",
      "$ RainToday     \u001b[3m\u001b[90m<chr>\u001b[39m\u001b[23m \"No\", \"No\", \"No\", \"No\", \"No\", \"No\", \"No\", \"No\", \"No\", \"…\n",
      "$ RainTomorrow  \u001b[3m\u001b[90m<chr>\u001b[39m\u001b[23m \"No\", \"No\", \"No\", \"No\", \"No\", \"No\", \"No\", \"No\", \"Yes\", …\n"
     ]
    }
   ],
   "source": [
    "weather <- read_csv(\"https://github.com/geoffreyyang/dsci100-002-group7/raw/main/data/weatherAUS.csv\")\n",
    "glimpse(weather)"
   ]
  },
  {
   "cell_type": "markdown",
   "metadata": {},
   "source": [
    "We encounter many parsing failures. Upon closer inspection, it seems `readr` parsed the `Evaporation` and `Sunshine` columns as logical vectors when they are actually doubles. We can coerce both variables to numeric using `as.numeric`. Furthermore, we convert the class labels `RainToday` and `RainTomorrow` from characters to factors.  \n",
    "\n",
    "At this point we want to see if the missing values will become problematic. We use `colSums` to print the list of how many NAs are in each column."
   ]
  },
  {
   "cell_type": "code",
   "execution_count": 3,
   "metadata": {},
   "outputs": [
    {
     "data": {
      "text/html": [
       "<style>\n",
       ".dl-inline {width: auto; margin:0; padding: 0}\n",
       ".dl-inline>dt, .dl-inline>dd {float: none; width: auto; display: inline-block}\n",
       ".dl-inline>dt::after {content: \":\\0020\"; padding-right: .5ex}\n",
       ".dl-inline>dt:not(:first-of-type) {padding-left: .5ex}\n",
       "</style><dl class=dl-inline><dt>Date</dt><dd>0</dd><dt>Location</dt><dd>0</dd><dt>MinTemp</dt><dd>1485</dd><dt>MaxTemp</dt><dd>1261</dd><dt>Rainfall</dt><dd>3261</dd><dt>Evaporation</dt><dd>143636</dd><dt>Sunshine</dt><dd>142771</dd><dt>WindGustDir</dt><dd>10326</dd><dt>WindGustSpeed</dt><dd>10263</dd><dt>WindDir9am</dt><dd>10566</dd><dt>WindDir3pm</dt><dd>4228</dd><dt>WindSpeed9am</dt><dd>1767</dd><dt>WindSpeed3pm</dt><dd>3062</dd><dt>Humidity9am</dt><dd>2654</dd><dt>Humidity3pm</dt><dd>4507</dd><dt>Pressure9am</dt><dd>15065</dd><dt>Pressure3pm</dt><dd>15028</dd><dt>Cloud9am</dt><dd>55888</dd><dt>Cloud3pm</dt><dd>59358</dd><dt>Temp9am</dt><dd>1767</dd><dt>Temp3pm</dt><dd>3609</dd><dt>RainToday</dt><dd>3261</dd><dt>RainTomorrow</dt><dd>3267</dd></dl>\n"
      ],
      "text/latex": [
       "\\begin{description*}\n",
       "\\item[Date] 0\n",
       "\\item[Location] 0\n",
       "\\item[MinTemp] 1485\n",
       "\\item[MaxTemp] 1261\n",
       "\\item[Rainfall] 3261\n",
       "\\item[Evaporation] 143636\n",
       "\\item[Sunshine] 142771\n",
       "\\item[WindGustDir] 10326\n",
       "\\item[WindGustSpeed] 10263\n",
       "\\item[WindDir9am] 10566\n",
       "\\item[WindDir3pm] 4228\n",
       "\\item[WindSpeed9am] 1767\n",
       "\\item[WindSpeed3pm] 3062\n",
       "\\item[Humidity9am] 2654\n",
       "\\item[Humidity3pm] 4507\n",
       "\\item[Pressure9am] 15065\n",
       "\\item[Pressure3pm] 15028\n",
       "\\item[Cloud9am] 55888\n",
       "\\item[Cloud3pm] 59358\n",
       "\\item[Temp9am] 1767\n",
       "\\item[Temp3pm] 3609\n",
       "\\item[RainToday] 3261\n",
       "\\item[RainTomorrow] 3267\n",
       "\\end{description*}\n"
      ],
      "text/markdown": [
       "Date\n",
       ":   0Location\n",
       ":   0MinTemp\n",
       ":   1485MaxTemp\n",
       ":   1261Rainfall\n",
       ":   3261Evaporation\n",
       ":   143636Sunshine\n",
       ":   142771WindGustDir\n",
       ":   10326WindGustSpeed\n",
       ":   10263WindDir9am\n",
       ":   10566WindDir3pm\n",
       ":   4228WindSpeed9am\n",
       ":   1767WindSpeed3pm\n",
       ":   3062Humidity9am\n",
       ":   2654Humidity3pm\n",
       ":   4507Pressure9am\n",
       ":   15065Pressure3pm\n",
       ":   15028Cloud9am\n",
       ":   55888Cloud3pm\n",
       ":   59358Temp9am\n",
       ":   1767Temp3pm\n",
       ":   3609RainToday\n",
       ":   3261RainTomorrow\n",
       ":   3267\n",
       "\n"
      ],
      "text/plain": [
       "         Date      Location       MinTemp       MaxTemp      Rainfall \n",
       "            0             0          1485          1261          3261 \n",
       "  Evaporation      Sunshine   WindGustDir WindGustSpeed    WindDir9am \n",
       "       143636        142771         10326         10263         10566 \n",
       "   WindDir3pm  WindSpeed9am  WindSpeed3pm   Humidity9am   Humidity3pm \n",
       "         4228          1767          3062          2654          4507 \n",
       "  Pressure9am   Pressure3pm      Cloud9am      Cloud3pm       Temp9am \n",
       "        15065         15028         55888         59358          1767 \n",
       "      Temp3pm     RainToday  RainTomorrow \n",
       "         3609          3261          3267 "
      ]
     },
     "metadata": {},
     "output_type": "display_data"
    }
   ],
   "source": [
    "weather_not_tidy <- weather %>%\n",
    "    # Fixing initial parsing error\n",
    "    mutate(Evaporation = as.numeric(Evaporation), Sunshine = as.numeric(Sunshine)) %>%\n",
    "    # Converting class labels to factors\n",
    "    mutate(RainToday = as_factor(RainToday), RainTomorrow = as_factor(RainTomorrow))\n",
    "\n",
    "# How many NAs are there?\n",
    "colSums(is.na(weather_not_tidy))"
   ]
  },
  {
   "cell_type": "markdown",
   "metadata": {},
   "source": [
    "It seems the `Evaporation` and `Sunshine` columns are unusable with more than 95% of rows having NAs, so we drop them. On the other hand, we feel comfortable keeping all the other numerical variables, even `Cloud9am` and `Cloud9pm`, and instead dropping the *rows* that have NA values for them. Although we will lose data, we will still end up with more than enough for training and testing. We accomplish this using `drop_na`. \n",
    "\n",
    "At this point, we split our data 75:25 into training and testing sets. We check to see if our manipulation was successful"
   ]
  },
  {
   "cell_type": "code",
   "execution_count": 4,
   "metadata": {},
   "outputs": [
    {
     "data": {
      "text/html": [
       "'factor'"
      ],
      "text/latex": [
       "'factor'"
      ],
      "text/markdown": [
       "'factor'"
      ],
      "text/plain": [
       "[1] \"factor\""
      ]
     },
     "metadata": {},
     "output_type": "display_data"
    },
    {
     "data": {
      "text/html": [
       "'factor'"
      ],
      "text/latex": [
       "'factor'"
      ],
      "text/markdown": [
       "'factor'"
      ],
      "text/plain": [
       "[1] \"factor\""
      ]
     },
     "metadata": {},
     "output_type": "display_data"
    },
    {
     "data": {
      "text/html": [
       "55059"
      ],
      "text/latex": [
       "55059"
      ],
      "text/markdown": [
       "55059"
      ],
      "text/plain": [
       "[1] 55059"
      ]
     },
     "metadata": {},
     "output_type": "display_data"
    },
    {
     "data": {
      "text/html": [
       "18352"
      ],
      "text/latex": [
       "18352"
      ],
      "text/markdown": [
       "18352"
      ],
      "text/plain": [
       "[1] 18352"
      ]
     },
     "metadata": {},
     "output_type": "display_data"
    },
    {
     "data": {
      "text/html": [
       "<style>\n",
       ".dl-inline {width: auto; margin:0; padding: 0}\n",
       ".dl-inline>dt, .dl-inline>dd {float: none; width: auto; display: inline-block}\n",
       ".dl-inline>dt::after {content: \":\\0020\"; padding-right: .5ex}\n",
       ".dl-inline>dt:not(:first-of-type) {padding-left: .5ex}\n",
       "</style><dl class=dl-inline><dt>No</dt><dd>42127</dd><dt>Yes</dt><dd>12932</dd></dl>\n"
      ],
      "text/latex": [
       "\\begin{description*}\n",
       "\\item[No] 42127\n",
       "\\item[Yes] 12932\n",
       "\\end{description*}\n"
      ],
      "text/markdown": [
       "No\n",
       ":   42127Yes\n",
       ":   12932\n",
       "\n"
      ],
      "text/plain": [
       "   No   Yes \n",
       "42127 12932 "
      ]
     },
     "metadata": {},
     "output_type": "display_data"
    },
    {
     "data": {
      "text/html": [
       "<style>\n",
       ".dl-inline {width: auto; margin:0; padding: 0}\n",
       ".dl-inline>dt, .dl-inline>dd {float: none; width: auto; display: inline-block}\n",
       ".dl-inline>dt::after {content: \":\\0020\"; padding-right: .5ex}\n",
       ".dl-inline>dt:not(:first-of-type) {padding-left: .5ex}\n",
       "</style><dl class=dl-inline><dt>Date</dt><dd>0</dd><dt>Location</dt><dd>0</dd><dt>MinTemp</dt><dd>0</dd><dt>MaxTemp</dt><dd>0</dd><dt>Rainfall</dt><dd>0</dd><dt>WindGustDir</dt><dd>9</dd><dt>WindGustSpeed</dt><dd>0</dd><dt>WindDir9am</dt><dd>1584</dd><dt>WindDir3pm</dt><dd>206</dd><dt>WindSpeed9am</dt><dd>0</dd><dt>WindSpeed3pm</dt><dd>0</dd><dt>Humidity9am</dt><dd>0</dd><dt>Humidity3pm</dt><dd>0</dd><dt>Pressure9am</dt><dd>0</dd><dt>Pressure3pm</dt><dd>0</dd><dt>Cloud9am</dt><dd>0</dd><dt>Cloud3pm</dt><dd>0</dd><dt>Temp9am</dt><dd>0</dd><dt>Temp3pm</dt><dd>0</dd><dt>RainToday</dt><dd>0</dd><dt>RainTomorrow</dt><dd>0</dd></dl>\n"
      ],
      "text/latex": [
       "\\begin{description*}\n",
       "\\item[Date] 0\n",
       "\\item[Location] 0\n",
       "\\item[MinTemp] 0\n",
       "\\item[MaxTemp] 0\n",
       "\\item[Rainfall] 0\n",
       "\\item[WindGustDir] 9\n",
       "\\item[WindGustSpeed] 0\n",
       "\\item[WindDir9am] 1584\n",
       "\\item[WindDir3pm] 206\n",
       "\\item[WindSpeed9am] 0\n",
       "\\item[WindSpeed3pm] 0\n",
       "\\item[Humidity9am] 0\n",
       "\\item[Humidity3pm] 0\n",
       "\\item[Pressure9am] 0\n",
       "\\item[Pressure3pm] 0\n",
       "\\item[Cloud9am] 0\n",
       "\\item[Cloud3pm] 0\n",
       "\\item[Temp9am] 0\n",
       "\\item[Temp3pm] 0\n",
       "\\item[RainToday] 0\n",
       "\\item[RainTomorrow] 0\n",
       "\\end{description*}\n"
      ],
      "text/markdown": [
       "Date\n",
       ":   0Location\n",
       ":   0MinTemp\n",
       ":   0MaxTemp\n",
       ":   0Rainfall\n",
       ":   0WindGustDir\n",
       ":   9WindGustSpeed\n",
       ":   0WindDir9am\n",
       ":   1584WindDir3pm\n",
       ":   206WindSpeed9am\n",
       ":   0WindSpeed3pm\n",
       ":   0Humidity9am\n",
       ":   0Humidity3pm\n",
       ":   0Pressure9am\n",
       ":   0Pressure3pm\n",
       ":   0Cloud9am\n",
       ":   0Cloud3pm\n",
       ":   0Temp9am\n",
       ":   0Temp3pm\n",
       ":   0RainToday\n",
       ":   0RainTomorrow\n",
       ":   0\n",
       "\n"
      ],
      "text/plain": [
       "         Date      Location       MinTemp       MaxTemp      Rainfall \n",
       "            0             0             0             0             0 \n",
       "  WindGustDir WindGustSpeed    WindDir9am    WindDir3pm  WindSpeed9am \n",
       "            9             0          1584           206             0 \n",
       " WindSpeed3pm   Humidity9am   Humidity3pm   Pressure9am   Pressure3pm \n",
       "            0             0             0             0             0 \n",
       "     Cloud9am      Cloud3pm       Temp9am       Temp3pm     RainToday \n",
       "            0             0             0             0             0 \n",
       " RainTomorrow \n",
       "            0 "
      ]
     },
     "metadata": {},
     "output_type": "display_data"
    }
   ],
   "source": [
    "weather_tidy <- weather_not_tidy %>%\n",
    "    # Drop Evaporation and Sunshine\n",
    "    select(-Evaporation, -Sunshine) %>%\n",
    "    # Get rid of all rows with NAs in variables we might use\n",
    "    drop_na(MinTemp, MaxTemp, Rainfall, WindGustSpeed, WindSpeed9am:RainTomorrow)\n",
    "    \n",
    "set.seed(1)\n",
    "weather_split <- initial_split(weather_tidy, prop = 0.75, strata = RainTomorrow)\n",
    "weather_train <- training(weather_split)\n",
    "weather_test <- testing(weather_split)\n",
    "\n",
    "# Are our class variables factors?\n",
    "class(weather_train$RainToday)\n",
    "class(weather_train$RainTomorrow)\n",
    "\n",
    "# Do we have enough training and testing data, in the right proportions?\n",
    "nrow(weather_train)\n",
    "nrow(weather_test)\n",
    "\n",
    "# How bad is the class imbalance?\n",
    "summary(weather_train$RainTomorrow)\n",
    "\n",
    "# How many NAs are there?\n",
    "colSums(is.na(weather_train))"
   ]
  },
  {
   "cell_type": "markdown",
   "metadata": {},
   "source": [
    "The class variable `RainTomorrow` has been successfully turned into a factor. There is some class imbalance but with a 3.3:1 ratio it should not be too problematic for KNN analysis. Most NAs have been elimininated: we now have around 55,000 rows in our training set and 18,000 in the testing set."
   ]
  },
  {
   "cell_type": "markdown",
   "metadata": {},
   "source": [
    "### Tables"
   ]
  },
  {
   "cell_type": "markdown",
   "metadata": {},
   "source": [
    "- **Using only training data, summarize the data in at least one table**\n",
    "- **An example of a useful table could be one that reports the number of observations in each class, the means of the predictor variables you plan to use in your analysis and how many rows have missing data.**\n",
    "- *Maybe we could make a chart where each row is a different variable, and there are four columns: `variable`, `mean(no rain tomorrow)`, `mean(rain tomorrow)`, and `difference`: the rows with the biggest `difference` would be the most useful predictors*"
   ]
  },
  {
   "cell_type": "code",
   "execution_count": null,
   "metadata": {},
   "outputs": [],
   "source": []
  },
  {
   "cell_type": "markdown",
   "metadata": {},
   "source": [
    "### Visualizations"
   ]
  },
  {
   "cell_type": "markdown",
   "metadata": {},
   "source": [
    "- **Using only training data, visualize the data with at least one plot relevant to the analysis you plan to do**\n",
    "- **An example of a useful visualization could be one that compares the distributions of each of the predictor variables you plan to use in your analysis.**\n",
    "- We should do ***frequency polygons*** of the 8 relevant variables (from the Methods section) like we saw in tutorial activity 4: e.g. for `Temp9am`, have one line representing the distribution of `Temp9am` among rows where it rained tomorrow and another line representing the distribution of `Temp9am` among rows where it didn't rain tomorrow"
   ]
  },
  {
   "cell_type": "code",
   "execution_count": null,
   "metadata": {},
   "outputs": [],
   "source": []
  },
  {
   "cell_type": "markdown",
   "metadata": {},
   "source": [
    "## Methods"
   ]
  },
  {
   "cell_type": "markdown",
   "metadata": {},
   "source": [
    "It seems that pressure, humidity, temperature, wind speed, and cloud cover all have some relationship with `RainTomorrow`. They are all numeric variables and come in nice pairs of two variables (measurements taken at 9 AM and 3 PM). Thus we plan to build five separate KNN classifiers capturing 5 broad weather variables:\n",
    "1. **Temperature** (`Temp9am` and `Temp3pm`)\n",
    "2. **Humidity** (`Humidity9am` and `Humidity3pm`)\n",
    "3. **Pressure** (`Pressure9am` and `Pressure3pm`)\n",
    "4. **Windiness** (`WindSpeed9am`, `WindSpeed3pm`)\n",
    "5. **Cloudiness** (`Cloud9am` and `Cloud3pm`)  \n",
    "\n",
    "We will not use `Date`, `Location`, or any of the wind direction variables since we lack the tools to incorporate categorical predictors. Although `MinTemp`, `MaxTemp`, and `WindGustSpeed` are numerical, we decided not to use them, since the 9 AM and 3 PM measurements are sufficient to capture \"temperature\" and \"windiness\" respectively and we want to avoid unnecessary complexity.  \n",
    "\n",
    "After building and tuning each model for the best performance using 10-fold cross-validation, we will identify the best performing classifier (most predictive variable) for `RainTomorrow`. Next, we will build a classifier that integrates all the numeric variables in the dataset as predictors. This will let us compare the effectiveness of our chosen \"heuristic\" variable with the \"best accuracy\" we can achieve from our data. Since KNN gets slow with many predictors, we might choose a different, more efficient algorithm. Finally, we will compare these two results to the \"naive approach\" of predicting it will rain tomorrow if it rained today, and vice-versa, to see how much value our models actually have in a real-world setting.  \n",
    "\n",
    "**Possible visualizations include:**\n",
    "- K versus accuracy plot for all 5 KNN classifiers\n",
    "- Bar graph comparing the accuracy of all 7 classifiers\n",
    "- Confusion matrix for the best single classifier and for the complete classifier"
   ]
  },
  {
   "cell_type": "markdown",
   "metadata": {},
   "source": [
    "## Expected outcomes and significance"
   ]
  },
  {
   "cell_type": "markdown",
   "metadata": {},
   "source": [
    "We expect to find that our best single variable classifier will be able to predict `RainTomorrow` with a high degree of accuracy, perhaps around 80%. We expect that the classifier incorporating all the predictors will perform better, but not *that* much better considering the additional computational expense. We expect both classifiers to be better than the naive approach.\n",
    "\n",
    "When we want to know if it will rain tomorrow, most of us just check the forecast on our phones. Still, finding variables highly associated with rain tomorrow could be useful whenever we forget to or are unable to check the forecast. Plus, most forecasts put a percentage on the chance of rain, so having a sense of what variables are actually *behind* those percentages could be useful. But the most significant outcome will predicting rain accurately despite using *significantly* less computing power and data than contemporary weather models.  \n",
    "\n",
    "This would raise several questions for future exploration. If we were able to be accurate with limited computing power, are there more computationally efficient methods available to meteorologists if they *only* had to forecast rain? If rain can be predicted with just a few variables, how many of the sensors installed in weather stations are truly *necessary*? Finally, how effective would our approach be at regression, predicting the *amount* of rainfall tomorrow?"
   ]
  },
  {
   "cell_type": "markdown",
   "metadata": {},
   "source": [
    "### References"
   ]
  },
  {
   "cell_type": "markdown",
   "metadata": {},
   "source": [
    "[1] https://www.nationalgeographic.com/environment/article/weather-forecasting  \n",
    "[2] https://www.kaggle.com/jsphyg/weather-dataset-rattle-package?select=weatherAUS.csv"
   ]
  }
 ],
 "metadata": {
  "kernelspec": {
   "display_name": "R",
   "language": "R",
   "name": "ir"
  },
  "language_info": {
   "codemirror_mode": "r",
   "file_extension": ".r",
   "mimetype": "text/x-r-source",
   "name": "R",
   "pygments_lexer": "r",
   "version": "4.0.0"
  }
 },
 "nbformat": 4,
 "nbformat_minor": 4
}
