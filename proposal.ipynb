{
 "cells": [
  {
   "cell_type": "markdown",
   "metadata": {},
   "source": [
    "# Project Proposal - Will it Rain Tomorrow?"
   ]
  },
  {
   "cell_type": "markdown",
   "metadata": {},
   "source": [
    "## Introduction"
   ]
  },
  {
   "cell_type": "markdown",
   "metadata": {},
   "source": [
    "- Provide some relevant background information on the topic so that someone unfamiliar with it will be prepared to understand the rest of your proposal\n",
    "- Clearly state the question you will try to answer with your project\n",
    "- Identify and describe the dataset that will be used to answer the question"
   ]
  },
  {
   "cell_type": "markdown",
   "metadata": {},
   "source": [
    "Modern weather forecasting involves feeding in millions of current weather observations from across the globe into complex computer models built on decades of atmospheric physics research<sup>1</sup>.  \n",
    "While we can't hope to model the weather, answering the simple yet important question of whether it will rain tomorrow might be within our reach  \n",
    "The dataset is from Australia ... 140,000 observations"
   ]
  },
  {
   "cell_type": "markdown",
   "metadata": {},
   "source": [
    "## Preliminary EDA"
   ]
  },
  {
   "cell_type": "markdown",
   "metadata": {},
   "source": [
    "- Demonstrate that the dataset can be read from the web into R \n",
    "- Clean and wrangle your data into a tidy format\n",
    "- Using only training data, summarize the data in at least one table \n",
    "- Using only training data, visualize the data with at least one plot relevant to the analysis you plan to do"
   ]
  },
  {
   "cell_type": "markdown",
   "metadata": {},
   "source": [
    "### Loading libraries"
   ]
  },
  {
   "cell_type": "code",
   "execution_count": 2,
   "metadata": {},
   "outputs": [],
   "source": [
    "suppressMessages(library(tidyverse))\n",
    "suppressMessages(library(tidymodels))\n",
    "suppressMessages(library(repr))\n",
    "suppressMessages(library(forcats))\n",
    "options(repr.matrix.max.rows = 6)"
   ]
  },
  {
   "cell_type": "markdown",
   "metadata": {},
   "source": [
    "### Reading and cleaning data"
   ]
  },
  {
   "cell_type": "markdown",
   "metadata": {},
   "source": [
    "The dataset from Kaggle<sup>2</sup> was uploaded to GitHub, from which we can access the raw:"
   ]
  },
  {
   "cell_type": "code",
   "execution_count": 5,
   "metadata": {},
   "outputs": [
    {
     "name": "stderr",
     "output_type": "stream",
     "text": [
      "Parsed with column specification:\n",
      "cols(\n",
      "  .default = col_double(),\n",
      "  Date = \u001b[34mcol_date(format = \"\")\u001b[39m,\n",
      "  Location = \u001b[31mcol_character()\u001b[39m,\n",
      "  Evaporation = \u001b[33mcol_logical()\u001b[39m,\n",
      "  Sunshine = \u001b[33mcol_logical()\u001b[39m,\n",
      "  WindGustDir = \u001b[31mcol_character()\u001b[39m,\n",
      "  WindDir9am = \u001b[31mcol_character()\u001b[39m,\n",
      "  WindDir3pm = \u001b[31mcol_character()\u001b[39m,\n",
      "  RainToday = \u001b[31mcol_character()\u001b[39m,\n",
      "  RainTomorrow = \u001b[31mcol_character()\u001b[39m\n",
      ")\n",
      "\n",
      "See spec(...) for full column specifications.\n",
      "\n",
      "Warning message:\n",
      "“153782 parsing failures.\n",
      " row         col           expected actual                                                                              file\n",
      "6050 Evaporation 1/0/T/F/TRUE/FALSE   12   'https://github.com/geoffreyyang/dsci100-002-group7/raw/main/data/weatherAUS.csv'\n",
      "6050 Sunshine    1/0/T/F/TRUE/FALSE   12.3 'https://github.com/geoffreyyang/dsci100-002-group7/raw/main/data/weatherAUS.csv'\n",
      "6051 Evaporation 1/0/T/F/TRUE/FALSE   14.8 'https://github.com/geoffreyyang/dsci100-002-group7/raw/main/data/weatherAUS.csv'\n",
      "6051 Sunshine    1/0/T/F/TRUE/FALSE   13   'https://github.com/geoffreyyang/dsci100-002-group7/raw/main/data/weatherAUS.csv'\n",
      "6052 Evaporation 1/0/T/F/TRUE/FALSE   12.6 'https://github.com/geoffreyyang/dsci100-002-group7/raw/main/data/weatherAUS.csv'\n",
      ".... ........... .................. ...... .................................................................................\n",
      "See problems(...) for more details.\n",
      "”\n"
     ]
    }
   ],
   "source": [
    "weather <- read_csv(\"https://github.com/geoffreyyang/dsci100-002-group7/raw/main/data/weatherAUS.csv\")"
   ]
  },
  {
   "cell_type": "markdown",
   "metadata": {},
   "source": [
    "What's up with the parsing failures?  \n",
    "Need to remove all rows with NAs, turn the class variables into factors, and split into training and testing datasets"
   ]
  },
  {
   "cell_type": "markdown",
   "metadata": {},
   "source": [
    "### Tables"
   ]
  },
  {
   "cell_type": "code",
   "execution_count": null,
   "metadata": {},
   "outputs": [],
   "source": []
  },
  {
   "cell_type": "markdown",
   "metadata": {},
   "source": [
    "### Visualizations"
   ]
  },
  {
   "cell_type": "markdown",
   "metadata": {},
   "source": [
    "Histogram of distributions of relevant variables  \n",
    "Scatterplot between two variables, coloured by whether or not it rained"
   ]
  },
  {
   "cell_type": "code",
   "execution_count": null,
   "metadata": {},
   "outputs": [],
   "source": []
  },
  {
   "cell_type": "markdown",
   "metadata": {},
   "source": [
    "## Methods"
   ]
  },
  {
   "cell_type": "markdown",
   "metadata": {},
   "source": [
    "- Explain how you will conduct either your data analysis and which variables/columns you will use\n",
    "- Describe at least one way that you will visualize the results"
   ]
  },
  {
   "cell_type": "markdown",
   "metadata": {},
   "source": [
    "We'll build KNN models for MinTemp & MaxTemp, Sunshine & Cloud3pm, WindSpeed9am & WindSPeed3pm, Humidity9am & Humidity3pm, Pressure9am & Pressure 3pm, Cloud9am & Cloud3pm, Temp9am & Temp3pm to find which combination of two variables is the most effective (accurate) at classifying RainTomorrow  \n",
    "We'll compare that to the accuracy from a KNN model that incorporates all the variables  \n",
    "Finally we'll compare that to the \"dumb approach\" - if it rained today it will rain tomorrow and vice-versa\n",
    "Visualize the results using scatterplots"
   ]
  },
  {
   "cell_type": "markdown",
   "metadata": {},
   "source": [
    "## Expected outcomes and significance"
   ]
  },
  {
   "cell_type": "markdown",
   "metadata": {},
   "source": [
    "- What do you expect to find?\n",
    "- What impact could such findings have?\n",
    "- What future questions could this lead to?"
   ]
  },
  {
   "cell_type": "markdown",
   "metadata": {},
   "source": [
    "We expect to find one or two variables that are really good  \n",
    "Almost as good as a model incorporating all the relevant variables  \n",
    "This could serve as a useful heuristic in our daily lives, the one thing we should look at  \n",
    "Question - if we achieved decent accuracy with limited computing power, are there less computationally expensive ways to predict rain available to meteorologists if they weren't required to forecast other weather variables?\n",
    "Question - How effective would our variables be at regression?"
   ]
  },
  {
   "cell_type": "markdown",
   "metadata": {},
   "source": [
    "### References"
   ]
  },
  {
   "cell_type": "markdown",
   "metadata": {},
   "source": [
    "[1] https://www.nationalgeographic.com/environment/article/weather-forecasting  \n",
    "[2] https://www.kaggle.com/jsphyg/weather-dataset-rattle-package?select=weatherAUS.csv"
   ]
  },
  {
   "cell_type": "code",
   "execution_count": null,
   "metadata": {},
   "outputs": [],
   "source": []
  }
 ],
 "metadata": {
  "kernelspec": {
   "display_name": "R",
   "language": "R",
   "name": "ir"
  },
  "language_info": {
   "codemirror_mode": "r",
   "file_extension": ".r",
   "mimetype": "text/x-r-source",
   "name": "R",
   "pygments_lexer": "r",
   "version": "4.0.0"
  }
 },
 "nbformat": 4,
 "nbformat_minor": 4
}
