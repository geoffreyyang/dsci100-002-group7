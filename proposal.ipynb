{
 "cells": [
  {
   "cell_type": "markdown",
   "metadata": {},
   "source": [
    "# Project Proposal - Will it Rain Tomorrow?"
   ]
  },
  {
   "cell_type": "markdown",
   "metadata": {},
   "source": [
    "## Introduction"
   ]
  },
  {
   "cell_type": "markdown",
   "metadata": {},
   "source": [
    "- Provide some relevant background information on the topic so that someone unfamiliar with it will be prepared to understand the rest of your proposal\n",
    "- Clearly state the question you will try to answer with your project\n",
    "- Identify and describe the dataset that will be used to answer the question"
   ]
  },
  {
   "cell_type": "markdown",
   "metadata": {},
   "source": [
    "To predict the weather, government agencies divide Earth's entire atmosphere into thousands of rectangular cells: for each cell, they feed millions of current weather observations into powerful supercomputers to generate forecasts, repeating this process four times a day<sup>1</sup>. But what if the goal was not to predict \"the weather\", but simply to predict *whether or not it will rain tomorrow*? Can this simple yet valuable question be answered accurately using easily-understood variables, fewer data points, and at minimal computational expense?  \n",
    "\n",
    "Our goal is to answer the question, ***which broad weather variable, when measured today, is most predictive of rain tomorrow?*** By \"broad\", we mean ideas like \"temperature\" and \"windiness\" rather than \"temperature at 3 pm\" and \"maximum wind gust speed\". These broad variables are things the average person could get a sense of as they go about their lives: if we find one that is strongly associated with rainfall, it could serve as a useful heuristic.\n",
    "\n",
    "We will use the \"Rain in Australia\" dataset, publicly avaialable on Kaggle<sup>2</sup>. It contains more than 140,000 weather observations gathered from locations across Australia over a span of 10 years. Each row contains temperature, rainfall, wind, humidity, pressure, and cloud cover measurements for the day. Although there are thousands of N/As, all rows have a Boolean value for the target variable, `RainTomorrow`: `Yes` if it rained at least 1 mm the day after, and `No` otherwise."
   ]
  },
  {
   "cell_type": "markdown",
   "metadata": {},
   "source": [
    "## Preliminary EDA"
   ]
  },
  {
   "cell_type": "markdown",
   "metadata": {},
   "source": [
    "- Demonstrate that the dataset can be read from the web into R \n",
    "- Clean and wrangle your data into a tidy format\n",
    "- Using only training data, summarize the data in at least one table \n",
    "- Using only training data, visualize the data with at least one plot relevant to the analysis you plan to do"
   ]
  },
  {
   "cell_type": "markdown",
   "metadata": {},
   "source": [
    "### Loading libraries"
   ]
  },
  {
   "cell_type": "code",
   "execution_count": 1,
   "metadata": {},
   "outputs": [
    {
     "name": "stderr",
     "output_type": "stream",
     "text": [
      "Warning message:\n",
      "“package ‘ggplot2’ was built under R version 4.0.1”\n",
      "Warning message:\n",
      "“package ‘tibble’ was built under R version 4.0.2”\n",
      "Warning message:\n",
      "“package ‘tidyr’ was built under R version 4.0.2”\n",
      "Warning message:\n",
      "“package ‘dplyr’ was built under R version 4.0.2”\n",
      "Warning message:\n",
      "“package ‘tidymodels’ was built under R version 4.0.2”\n",
      "Warning message:\n",
      "“package ‘broom’ was built under R version 4.0.2”\n",
      "Warning message:\n",
      "“package ‘dials’ was built under R version 4.0.2”\n",
      "Warning message:\n",
      "“package ‘infer’ was built under R version 4.0.3”\n",
      "Warning message:\n",
      "“package ‘modeldata’ was built under R version 4.0.1”\n",
      "Warning message:\n",
      "“package ‘parsnip’ was built under R version 4.0.2”\n",
      "Warning message:\n",
      "“package ‘recipes’ was built under R version 4.0.1”\n",
      "Warning message:\n",
      "“package ‘tune’ was built under R version 4.0.2”\n",
      "Warning message:\n",
      "“package ‘workflows’ was built under R version 4.0.2”\n",
      "Warning message:\n",
      "“package ‘yardstick’ was built under R version 4.0.2”\n"
     ]
    }
   ],
   "source": [
    "suppressPackageStartupMessages({\n",
    "    library(tidyverse)\n",
    "    library(tidymodels)\n",
    "    library(repr)\n",
    "    library(forcats)\n",
    "})\n",
    "options(repr.matrix.max.rows = 6)"
   ]
  },
  {
   "cell_type": "markdown",
   "metadata": {},
   "source": [
    "### Reading and cleaning data"
   ]
  },
  {
   "cell_type": "markdown",
   "metadata": {},
   "source": [
    "The dataset was downloaded from Kaggle and then uploaded to GitHub. We load in the data and preview the columns using `glimpse`:"
   ]
  },
  {
   "cell_type": "code",
   "execution_count": 2,
   "metadata": {},
   "outputs": [
    {
     "name": "stderr",
     "output_type": "stream",
     "text": [
      "Parsed with column specification:\n",
      "cols(\n",
      "  .default = col_double(),\n",
      "  Date = \u001b[34mcol_date(format = \"\")\u001b[39m,\n",
      "  Location = \u001b[31mcol_character()\u001b[39m,\n",
      "  Evaporation = \u001b[33mcol_logical()\u001b[39m,\n",
      "  Sunshine = \u001b[33mcol_logical()\u001b[39m,\n",
      "  WindGustDir = \u001b[31mcol_character()\u001b[39m,\n",
      "  WindDir9am = \u001b[31mcol_character()\u001b[39m,\n",
      "  WindDir3pm = \u001b[31mcol_character()\u001b[39m,\n",
      "  RainToday = \u001b[31mcol_character()\u001b[39m,\n",
      "  RainTomorrow = \u001b[31mcol_character()\u001b[39m\n",
      ")\n",
      "\n",
      "See spec(...) for full column specifications.\n",
      "\n",
      "Warning message:\n",
      "“153782 parsing failures.\n",
      " row         col           expected actual                                                                              file\n",
      "6050 Evaporation 1/0/T/F/TRUE/FALSE   12   'https://github.com/geoffreyyang/dsci100-002-group7/raw/main/data/weatherAUS.csv'\n",
      "6050 Sunshine    1/0/T/F/TRUE/FALSE   12.3 'https://github.com/geoffreyyang/dsci100-002-group7/raw/main/data/weatherAUS.csv'\n",
      "6051 Evaporation 1/0/T/F/TRUE/FALSE   14.8 'https://github.com/geoffreyyang/dsci100-002-group7/raw/main/data/weatherAUS.csv'\n",
      "6051 Sunshine    1/0/T/F/TRUE/FALSE   13   'https://github.com/geoffreyyang/dsci100-002-group7/raw/main/data/weatherAUS.csv'\n",
      "6052 Evaporation 1/0/T/F/TRUE/FALSE   12.6 'https://github.com/geoffreyyang/dsci100-002-group7/raw/main/data/weatherAUS.csv'\n",
      ".... ........... .................. ...... .................................................................................\n",
      "See problems(...) for more details.\n",
      "”\n"
     ]
    },
    {
     "name": "stdout",
     "output_type": "stream",
     "text": [
      "Rows: 145,460\n",
      "Columns: 23\n",
      "$ Date          \u001b[3m\u001b[90m<date>\u001b[39m\u001b[23m 2008-12-01, 2008-12-02, 2008-12-03, 2008-12-04, 2008-1…\n",
      "$ Location      \u001b[3m\u001b[90m<chr>\u001b[39m\u001b[23m \"Albury\", \"Albury\", \"Albury\", \"Albury\", \"Albury\", \"Albu…\n",
      "$ MinTemp       \u001b[3m\u001b[90m<dbl>\u001b[39m\u001b[23m 13.4, 7.4, 12.9, 9.2, 17.5, 14.6, 14.3, 7.7, 9.7, 13.1,…\n",
      "$ MaxTemp       \u001b[3m\u001b[90m<dbl>\u001b[39m\u001b[23m 22.9, 25.1, 25.7, 28.0, 32.3, 29.7, 25.0, 26.7, 31.9, 3…\n",
      "$ Rainfall      \u001b[3m\u001b[90m<dbl>\u001b[39m\u001b[23m 0.6, 0.0, 0.0, 0.0, 1.0, 0.2, 0.0, 0.0, 0.0, 1.4, 0.0, …\n",
      "$ Evaporation   \u001b[3m\u001b[90m<lgl>\u001b[39m\u001b[23m NA, NA, NA, NA, NA, NA, NA, NA, NA, NA, NA, NA, NA, NA,…\n",
      "$ Sunshine      \u001b[3m\u001b[90m<lgl>\u001b[39m\u001b[23m NA, NA, NA, NA, NA, NA, NA, NA, NA, NA, NA, NA, NA, NA,…\n",
      "$ WindGustDir   \u001b[3m\u001b[90m<chr>\u001b[39m\u001b[23m \"W\", \"WNW\", \"WSW\", \"NE\", \"W\", \"WNW\", \"W\", \"W\", \"NNW\", \"…\n",
      "$ WindGustSpeed \u001b[3m\u001b[90m<dbl>\u001b[39m\u001b[23m 44, 44, 46, 24, 41, 56, 50, 35, 80, 28, 30, 31, 61, 44,…\n",
      "$ WindDir9am    \u001b[3m\u001b[90m<chr>\u001b[39m\u001b[23m \"W\", \"NNW\", \"W\", \"SE\", \"ENE\", \"W\", \"SW\", \"SSE\", \"SE\", \"…\n",
      "$ WindDir3pm    \u001b[3m\u001b[90m<chr>\u001b[39m\u001b[23m \"WNW\", \"WSW\", \"WSW\", \"E\", \"NW\", \"W\", \"W\", \"W\", \"NW\", \"S…\n",
      "$ WindSpeed9am  \u001b[3m\u001b[90m<dbl>\u001b[39m\u001b[23m 20, 4, 19, 11, 7, 19, 20, 6, 7, 15, 17, 15, 28, 24, 4, …\n",
      "$ WindSpeed3pm  \u001b[3m\u001b[90m<dbl>\u001b[39m\u001b[23m 24, 22, 26, 9, 20, 24, 24, 17, 28, 11, 6, 13, 28, 20, 3…\n",
      "$ Humidity9am   \u001b[3m\u001b[90m<dbl>\u001b[39m\u001b[23m 71, 44, 38, 45, 82, 55, 49, 48, 42, 58, 48, 89, 76, 65,…\n",
      "$ Humidity3pm   \u001b[3m\u001b[90m<dbl>\u001b[39m\u001b[23m 22, 25, 30, 16, 33, 23, 19, 19, 9, 27, 22, 91, 93, 43, …\n",
      "$ Pressure9am   \u001b[3m\u001b[90m<dbl>\u001b[39m\u001b[23m 1007.7, 1010.6, 1007.6, 1017.6, 1010.8, 1009.2, 1009.6,…\n",
      "$ Pressure3pm   \u001b[3m\u001b[90m<dbl>\u001b[39m\u001b[23m 1007.1, 1007.8, 1008.7, 1012.8, 1006.0, 1005.4, 1008.2,…\n",
      "$ Cloud9am      \u001b[3m\u001b[90m<dbl>\u001b[39m\u001b[23m 8, NA, NA, NA, 7, NA, 1, NA, NA, NA, NA, 8, 8, NA, NA, …\n",
      "$ Cloud3pm      \u001b[3m\u001b[90m<dbl>\u001b[39m\u001b[23m NA, NA, 2, NA, 8, NA, NA, NA, NA, NA, NA, 8, 8, 7, NA, …\n",
      "$ Temp9am       \u001b[3m\u001b[90m<dbl>\u001b[39m\u001b[23m 16.9, 17.2, 21.0, 18.1, 17.8, 20.6, 18.1, 16.3, 18.3, 2…\n",
      "$ Temp3pm       \u001b[3m\u001b[90m<dbl>\u001b[39m\u001b[23m 21.8, 24.3, 23.2, 26.5, 29.7, 28.9, 24.6, 25.5, 30.2, 2…\n",
      "$ RainToday     \u001b[3m\u001b[90m<chr>\u001b[39m\u001b[23m \"No\", \"No\", \"No\", \"No\", \"No\", \"No\", \"No\", \"No\", \"No\", \"…\n",
      "$ RainTomorrow  \u001b[3m\u001b[90m<chr>\u001b[39m\u001b[23m \"No\", \"No\", \"No\", \"No\", \"No\", \"No\", \"No\", \"No\", \"Yes\", …\n"
     ]
    }
   ],
   "source": [
    "weather <- read_csv(\"https://github.com/geoffreyyang/dsci100-002-group7/raw/main/data/weatherAUS.csv\")\n",
    "glimpse(weather)"
   ]
  },
  {
   "cell_type": "markdown",
   "metadata": {},
   "source": [
    "We encounter many parsing failures. Upon closer inspection, it seems `readr` parsed the `Evaporation` and `Sunshine` columns as logical vectors when they are actually doubles. We can coerce them to numeric using `as.numeric`. Next, we convert the class labels `RainToday` and `RainTomorrow` from characters to factors.  \n",
    "\n",
    "At this point we want to see if the missing values will become problematic. We `map` over the data frame to count the number of missing values in each column."
   ]
  },
  {
   "cell_type": "code",
   "execution_count": 3,
   "metadata": {},
   "outputs": [
    {
     "data": {
      "text/html": [
       "<dl>\n",
       "\t<dt>$Date</dt>\n",
       "\t\t<dd>0</dd>\n",
       "\t<dt>$Location</dt>\n",
       "\t\t<dd>0</dd>\n",
       "\t<dt>$MinTemp</dt>\n",
       "\t\t<dd>1485</dd>\n",
       "\t<dt>$MaxTemp</dt>\n",
       "\t\t<dd>1261</dd>\n",
       "\t<dt>$Rainfall</dt>\n",
       "\t\t<dd>3261</dd>\n",
       "\t<dt>$Evaporation</dt>\n",
       "\t\t<dd>143636</dd>\n",
       "\t<dt>$Sunshine</dt>\n",
       "\t\t<dd>142771</dd>\n",
       "\t<dt>$WindGustDir</dt>\n",
       "\t\t<dd>10326</dd>\n",
       "\t<dt>$WindGustSpeed</dt>\n",
       "\t\t<dd>10263</dd>\n",
       "\t<dt>$WindDir9am</dt>\n",
       "\t\t<dd>10566</dd>\n",
       "\t<dt>$WindDir3pm</dt>\n",
       "\t\t<dd>4228</dd>\n",
       "\t<dt>$WindSpeed9am</dt>\n",
       "\t\t<dd>1767</dd>\n",
       "\t<dt>$WindSpeed3pm</dt>\n",
       "\t\t<dd>3062</dd>\n",
       "\t<dt>$Humidity9am</dt>\n",
       "\t\t<dd>2654</dd>\n",
       "\t<dt>$Humidity3pm</dt>\n",
       "\t\t<dd>4507</dd>\n",
       "\t<dt>$Pressure9am</dt>\n",
       "\t\t<dd>15065</dd>\n",
       "\t<dt>$Pressure3pm</dt>\n",
       "\t\t<dd>15028</dd>\n",
       "\t<dt>$Cloud9am</dt>\n",
       "\t\t<dd>55888</dd>\n",
       "\t<dt>$Cloud3pm</dt>\n",
       "\t\t<dd>59358</dd>\n",
       "\t<dt>$Temp9am</dt>\n",
       "\t\t<dd>1767</dd>\n",
       "\t<dt>$Temp3pm</dt>\n",
       "\t\t<dd>3609</dd>\n",
       "\t<dt>$RainToday</dt>\n",
       "\t\t<dd>3261</dd>\n",
       "\t<dt>$RainTomorrow</dt>\n",
       "\t\t<dd>3267</dd>\n",
       "</dl>\n"
      ],
      "text/latex": [
       "\\begin{description}\n",
       "\\item[\\$Date] 0\n",
       "\\item[\\$Location] 0\n",
       "\\item[\\$MinTemp] 1485\n",
       "\\item[\\$MaxTemp] 1261\n",
       "\\item[\\$Rainfall] 3261\n",
       "\\item[\\$Evaporation] 143636\n",
       "\\item[\\$Sunshine] 142771\n",
       "\\item[\\$WindGustDir] 10326\n",
       "\\item[\\$WindGustSpeed] 10263\n",
       "\\item[\\$WindDir9am] 10566\n",
       "\\item[\\$WindDir3pm] 4228\n",
       "\\item[\\$WindSpeed9am] 1767\n",
       "\\item[\\$WindSpeed3pm] 3062\n",
       "\\item[\\$Humidity9am] 2654\n",
       "\\item[\\$Humidity3pm] 4507\n",
       "\\item[\\$Pressure9am] 15065\n",
       "\\item[\\$Pressure3pm] 15028\n",
       "\\item[\\$Cloud9am] 55888\n",
       "\\item[\\$Cloud3pm] 59358\n",
       "\\item[\\$Temp9am] 1767\n",
       "\\item[\\$Temp3pm] 3609\n",
       "\\item[\\$RainToday] 3261\n",
       "\\item[\\$RainTomorrow] 3267\n",
       "\\end{description}\n"
      ],
      "text/markdown": [
       "$Date\n",
       ":   0\n",
       "$Location\n",
       ":   0\n",
       "$MinTemp\n",
       ":   1485\n",
       "$MaxTemp\n",
       ":   1261\n",
       "$Rainfall\n",
       ":   3261\n",
       "$Evaporation\n",
       ":   143636\n",
       "$Sunshine\n",
       ":   142771\n",
       "$WindGustDir\n",
       ":   10326\n",
       "$WindGustSpeed\n",
       ":   10263\n",
       "$WindDir9am\n",
       ":   10566\n",
       "$WindDir3pm\n",
       ":   4228\n",
       "$WindSpeed9am\n",
       ":   1767\n",
       "$WindSpeed3pm\n",
       ":   3062\n",
       "$Humidity9am\n",
       ":   2654\n",
       "$Humidity3pm\n",
       ":   4507\n",
       "$Pressure9am\n",
       ":   15065\n",
       "$Pressure3pm\n",
       ":   15028\n",
       "$Cloud9am\n",
       ":   55888\n",
       "$Cloud3pm\n",
       ":   59358\n",
       "$Temp9am\n",
       ":   1767\n",
       "$Temp3pm\n",
       ":   3609\n",
       "$RainToday\n",
       ":   3261\n",
       "$RainTomorrow\n",
       ":   3267\n",
       "\n",
       "\n"
      ],
      "text/plain": [
       "$Date\n",
       "[1] 0\n",
       "\n",
       "$Location\n",
       "[1] 0\n",
       "\n",
       "$MinTemp\n",
       "[1] 1485\n",
       "\n",
       "$MaxTemp\n",
       "[1] 1261\n",
       "\n",
       "$Rainfall\n",
       "[1] 3261\n",
       "\n",
       "$Evaporation\n",
       "[1] 143636\n",
       "\n",
       "$Sunshine\n",
       "[1] 142771\n",
       "\n",
       "$WindGustDir\n",
       "[1] 10326\n",
       "\n",
       "$WindGustSpeed\n",
       "[1] 10263\n",
       "\n",
       "$WindDir9am\n",
       "[1] 10566\n",
       "\n",
       "$WindDir3pm\n",
       "[1] 4228\n",
       "\n",
       "$WindSpeed9am\n",
       "[1] 1767\n",
       "\n",
       "$WindSpeed3pm\n",
       "[1] 3062\n",
       "\n",
       "$Humidity9am\n",
       "[1] 2654\n",
       "\n",
       "$Humidity3pm\n",
       "[1] 4507\n",
       "\n",
       "$Pressure9am\n",
       "[1] 15065\n",
       "\n",
       "$Pressure3pm\n",
       "[1] 15028\n",
       "\n",
       "$Cloud9am\n",
       "[1] 55888\n",
       "\n",
       "$Cloud3pm\n",
       "[1] 59358\n",
       "\n",
       "$Temp9am\n",
       "[1] 1767\n",
       "\n",
       "$Temp3pm\n",
       "[1] 3609\n",
       "\n",
       "$RainToday\n",
       "[1] 3261\n",
       "\n",
       "$RainTomorrow\n",
       "[1] 3267\n"
      ]
     },
     "metadata": {},
     "output_type": "display_data"
    }
   ],
   "source": [
    "weather_not_tidy <- weather %>%\n",
    "    # Fixing initial parsing error\n",
    "    mutate(Evaporation = as.numeric(Evaporation), Sunshine = as.numeric(Sunshine)) %>%\n",
    "    # Converting class labels to factors\n",
    "    mutate(RainToday = as_factor(RainToday), RainTomorrow = as_factor(RainTomorrow))\n",
    "\n",
    "map(weather_not_tidy, ~sum(is.na(.)))"
   ]
  },
  {
   "cell_type": "markdown",
   "metadata": {},
   "source": [
    "It seems the `Evaporation` and `Sunshine` columns are unusable with more than 95% of rows having NAs, so we drop them. On the other hand, we feel comfortable keeping the other numerical variables and instead dropping the *rows* that have NA values, because even after doing so, we will still have plenty of data. We accomplish this using `drop_na`.  \n",
    "\n",
    "At this point we split our data 75:25 into training and testing sets, and use `summary` to check the results of our data wrangling on the training set."
   ]
  },
  {
   "cell_type": "code",
   "execution_count": 4,
   "metadata": {},
   "outputs": [
    {
     "data": {
      "text/plain": [
       "      Date              Location            MinTemp         MaxTemp     \n",
       " Min.   :2007-11-02   Length:55059       Min.   :-6.70   Min.   : 4.10  \n",
       " 1st Qu.:2010-09-30   Class :character   1st Qu.: 8.10   1st Qu.:18.00  \n",
       " Median :2012-11-18   Mode  :character   Median :12.80   Median :23.30  \n",
       " Mean   :2012-12-19                      Mean   :13.03   Mean   :23.69  \n",
       " 3rd Qu.:2015-02-04                      3rd Qu.:18.00   3rd Qu.:29.20  \n",
       " Max.   :2017-06-25                      Max.   :31.40   Max.   :48.10  \n",
       "    Rainfall       WindGustDir        WindGustSpeed     WindDir9am       \n",
       " Min.   :  0.000   Length:55059       Min.   :  9.00   Length:55059      \n",
       " 1st Qu.:  0.000   Class :character   1st Qu.: 31.00   Class :character  \n",
       " Median :  0.000   Mode  :character   Median : 39.00   Mode  :character  \n",
       " Mean   :  2.656                      Mean   : 40.67                     \n",
       " 3rd Qu.:  1.000                      3rd Qu.: 48.00                     \n",
       " Max.   :367.600                      Max.   :126.00                     \n",
       "  WindDir3pm         WindSpeed9am    WindSpeed3pm    Humidity9am    \n",
       " Length:55059       Min.   : 0.00   Min.   : 0.00   Min.   :  1.00  \n",
       " Class :character   1st Qu.: 9.00   1st Qu.:13.00   1st Qu.: 56.00  \n",
       " Mode  :character   Median :15.00   Median :19.00   Median : 69.00  \n",
       "                    Mean   :15.28   Mean   :19.53   Mean   : 67.65  \n",
       "                    3rd Qu.:20.00   3rd Qu.:24.00   3rd Qu.: 82.00  \n",
       "                    Max.   :69.00   Max.   :76.00   Max.   :100.00  \n",
       "  Humidity3pm      Pressure9am      Pressure3pm        Cloud9am    \n",
       " Min.   :  0.00   Min.   : 980.5   Min.   : 977.1   Min.   :0.000  \n",
       " 1st Qu.: 36.00   1st Qu.:1012.7   1st Qu.:1010.1   1st Qu.:1.000  \n",
       " Median : 52.00   Median :1017.3   Median :1014.8   Median :5.000  \n",
       " Mean   : 50.91   Mean   :1017.3   Mean   :1014.9   Mean   :4.438  \n",
       " 3rd Qu.: 65.00   3rd Qu.:1022.0   3rd Qu.:1019.6   3rd Qu.:7.000  \n",
       " Max.   :100.00   Max.   :1040.2   Max.   :1038.5   Max.   :8.000  \n",
       "    Cloud3pm        Temp9am         Temp3pm     RainToday   RainTomorrow\n",
       " Min.   :0.000   Min.   :-1.00   Min.   : 1.7   No :41860   No :42127   \n",
       " 1st Qu.:2.000   1st Qu.:12.40   1st Qu.:16.8   Yes:13199   Yes:12932   \n",
       " Median :5.000   Median :17.30   Median :21.7                           \n",
       " Mean   :4.505   Mean   :17.66   Mean   :22.2                           \n",
       " 3rd Qu.:7.000   3rd Qu.:22.70   3rd Qu.:27.4                           \n",
       " Max.   :9.000   Max.   :39.40   Max.   :46.7                           "
      ]
     },
     "metadata": {},
     "output_type": "display_data"
    }
   ],
   "source": [
    "weather_tidy <- weather_not_tidy %>%\n",
    "    select(-Evaporation, -Sunshine) %>%\n",
    "    drop_na(MinTemp, MaxTemp, Rainfall, WindGustSpeed, WindSpeed9am:RainTomorrow)\n",
    "    \n",
    "set.seed(1)\n",
    "weather_split <- initial_split(weather_tidy, prop = 0.75, strata = RainTomorrow)\n",
    "weather_train <- training(weather_split)\n",
    "weather_test <- testing(weather_split)\n",
    "\n",
    "summary(weather_train)"
   ]
  },
  {
   "cell_type": "markdown",
   "metadata": {},
   "source": [
    "Our data is now neat and tidy, ready for EDA!"
   ]
  },
  {
   "cell_type": "markdown",
   "metadata": {},
   "source": [
    "### Tables"
   ]
  },
  {
   "cell_type": "code",
   "execution_count": null,
   "metadata": {},
   "outputs": [],
   "source": []
  },
  {
   "cell_type": "markdown",
   "metadata": {},
   "source": [
    "### Visualizations"
   ]
  },
  {
   "cell_type": "markdown",
   "metadata": {},
   "source": [
    "Histogram of distributions of relevant variables  \n",
    "Scatterplot between two variables, coloured by whether or not it rained"
   ]
  },
  {
   "cell_type": "code",
   "execution_count": null,
   "metadata": {},
   "outputs": [],
   "source": []
  },
  {
   "cell_type": "markdown",
   "metadata": {},
   "source": [
    "## Methods"
   ]
  },
  {
   "cell_type": "markdown",
   "metadata": {},
   "source": [
    "- Explain how you will conduct either your data analysis and which variables/columns you will use\n",
    "- Describe at least one way that you will visualize the results"
   ]
  },
  {
   "cell_type": "markdown",
   "metadata": {},
   "source": [
    "We'll build KNN models for MinTemp & MaxTemp, Sunshine & Cloud3pm, WindSpeed9am & WindSPeed3pm, Humidity9am & Humidity3pm, Pressure9am & Pressure 3pm, Cloud9am & Cloud3pm, Temp9am & Temp3pm to find which combination of two variables is the most effective (accurate) at classifying RainTomorrow  \n",
    "We'll compare that to the accuracy from a KNN model that incorporates all the variables  \n",
    "Finally we'll compare that to the \"dumb approach\" - if it rained today it will rain tomorrow and vice-versa\n",
    "Visualize the results using scatterplots"
   ]
  },
  {
   "cell_type": "markdown",
   "metadata": {},
   "source": [
    "## Expected outcomes and significance"
   ]
  },
  {
   "cell_type": "markdown",
   "metadata": {},
   "source": [
    "- What do you expect to find?\n",
    "- What impact could such findings have?\n",
    "- What future questions could this lead to?"
   ]
  },
  {
   "cell_type": "markdown",
   "metadata": {},
   "source": [
    "We expect to find one or two variables that are really good  \n",
    "Almost as good as a model incorporating all the relevant variables  \n",
    "This could serve as a useful heuristic in our daily lives, the one thing we should look at  \n",
    "Question - if we achieved decent accuracy with limited computing power, are there less computationally expensive ways to predict rain available to meteorologists if they weren't required to forecast other weather variables?\n",
    "Question - How effective would our variables be at regression?"
   ]
  },
  {
   "cell_type": "markdown",
   "metadata": {},
   "source": [
    "### References"
   ]
  },
  {
   "cell_type": "markdown",
   "metadata": {},
   "source": [
    "[1] https://www.nationalgeographic.com/environment/article/weather-forecasting  \n",
    "[2] https://www.kaggle.com/jsphyg/weather-dataset-rattle-package?select=weatherAUS.csv"
   ]
  },
  {
   "cell_type": "code",
   "execution_count": null,
   "metadata": {},
   "outputs": [],
   "source": []
  }
 ],
 "metadata": {
  "kernelspec": {
   "display_name": "R",
   "language": "R",
   "name": "ir"
  },
  "language_info": {
   "codemirror_mode": "r",
   "file_extension": ".r",
   "mimetype": "text/x-r-source",
   "name": "R",
   "pygments_lexer": "r",
   "version": "4.0.0"
  }
 },
 "nbformat": 4,
 "nbformat_minor": 4
}
