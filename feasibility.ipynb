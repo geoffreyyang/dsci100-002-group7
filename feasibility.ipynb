{
 "cells": [
  {
   "cell_type": "markdown",
   "metadata": {},
   "source": [
    "# Rain in Australia"
   ]
  },
  {
   "cell_type": "code",
   "execution_count": null,
   "metadata": {},
   "outputs": [],
   "source": [
    "library(tidyverse)\n",
    "library(tidymodels)\n",
    "library(repr)\n",
    "library(forcats)\n",
    "options(repr.matrix.max.rows = 6)"
   ]
  },
  {
   "cell_type": "markdown",
   "metadata": {},
   "source": [
    "## Loading data"
   ]
  },
  {
   "cell_type": "code",
   "execution_count": null,
   "metadata": {},
   "outputs": [],
   "source": [
    "aussie <- read_csv(\"https://github.com/geoffreyyang/dsci100-002-group7/raw/main/data/weatherAUS.csv\")\n",
    "aussie_factored <- aussie %>%\n",
    "    mutate(RainToday = as.factor(RainToday), \n",
    "          RainTomorrow = as.factor(RainTomorrow))\n",
    "glimpse(aussie_factored)"
   ]
  },
  {
   "cell_type": "markdown",
   "metadata": {},
   "source": [
    "## Visualizations"
   ]
  },
  {
   "cell_type": "code",
   "execution_count": null,
   "metadata": {},
   "outputs": [],
   "source": [
    "aussie_factored %>% \n",
    "    ggplot(aes(x = `Pressure9am`, y = `Pressure3pm`, color = RainTomorrow)) +\n",
    "    geom_point(alpha = 0.1) +\n",
    "    labs(color = \"Rain Tomorrow?\")\n",
    "\n",
    "aussie_factored %>% \n",
    "    ggplot(aes(x = `Humidity9am`, y = `Humidity3pm`, color = RainTomorrow)) +\n",
    "    geom_point(alpha = 0.1) +\n",
    "    labs(color = \"Rain Tomorrow?\")\n",
    "\n",
    "aussie_factored %>% \n",
    "    ggplot(aes(x = `Cloud9am`, y = `Cloud3pm`, color = RainTomorrow)) +\n",
    "    geom_point(alpha = 0.1) +\n",
    "    labs(color = \"Rain Tomorrow?\")\n",
    "\n",
    "aussie_factored %>% \n",
    "    ggplot(aes(x = `WindSpeed9am`, y = `WindSpeed3pm`, color = RainTomorrow)) +\n",
    "    geom_point(alpha = 0.1) +\n",
    "    labs(color = \"Rain Tomorrow?\")\n",
    "\n",
    "aussie_factored %>% \n",
    "    ggplot(aes(x = `Temp9am`, y = `Temp3pm`, color = RainTomorrow)) +\n",
    "    geom_point(alpha = 0.1) +\n",
    "    labs(color = \"Rain Tomorrow?\")"
   ]
  }
 ],
 "metadata": {
  "kernelspec": {
   "display_name": "R",
   "language": "R",
   "name": "ir"
  },
  "language_info": {
   "codemirror_mode": "r",
   "file_extension": ".r",
   "mimetype": "text/x-r-source",
   "name": "R",
   "pygments_lexer": "r",
   "version": "4.0.0"
  }
 },
 "nbformat": 4,
 "nbformat_minor": 4
}
